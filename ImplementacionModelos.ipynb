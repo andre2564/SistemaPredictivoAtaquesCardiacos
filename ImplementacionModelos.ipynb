{
  "cells": [
    {
      "cell_type": "markdown",
      "metadata": {
        "id": "view-in-github",
        "colab_type": "text"
      },
      "source": [
        "<a href=\"https://colab.research.google.com/github/andre2564/SistemaPredictivoAtaquesCardiacos/blob/main/ImplementacionModelos.ipynb\" target=\"_parent\"><img src=\"https://colab.research.google.com/assets/colab-badge.svg\" alt=\"Open In Colab\"/></a>"
      ]
    },
    {
      "cell_type": "markdown",
      "metadata": {
        "id": "v_duj-lFcdrk"
      },
      "source": [
        "**Taller 3 - Implementacion Modelo**\n",
        "\n",
        "En este trabajo se busca implementar un modelo para un proyecto de analítica de datos.\n"
      ]
    },
    {
      "cell_type": "markdown",
      "metadata": {
        "id": "A_M4jLjJ2aI3"
      },
      "source": [
        "# Sistemas de prediccion de Ataques Cardiacos \n"
      ]
    },
    {
      "cell_type": "markdown",
      "metadata": {
        "id": "XvW_RdVdcqHj"
      },
      "source": [
        "**Datos de la presentación**\n",
        "\n",
        "\n",
        "* **Curso**: 901T\n",
        "\n",
        "* **Autores**:\n",
        "\n",
        "1. Andrea Roa Perez"
      ]
    },
    {
      "cell_type": "markdown",
      "metadata": {
        "id": "iT-yd3yEd1Lh"
      },
      "source": [
        "# Fase 1: Importancia de los datos"
      ]
    },
    {
      "cell_type": "code",
      "execution_count": null,
      "metadata": {
        "colab": {
          "background_save": true
        },
        "id": "odEWuVdN6RF0",
        "outputId": "59ef2f5b-0aed-44a1-eb03-e2894eaee395"
      },
      "outputs": [
        {
          "name": "stdout",
          "output_type": "stream",
          "text": [
            "Mounted at /content/drive\n"
          ]
        }
      ],
      "source": [
        "from google.colab import drive\n",
        "drive.mount('/content/drive')"
      ]
    },
    {
      "cell_type": "code",
      "execution_count": null,
      "metadata": {
        "id": "SYBbkoBl5p3Q"
      },
      "outputs": [],
      "source": [
        "# Librerias a utilizar\n",
        "import numpy                as np\n",
        "import pandas               as pd\n",
        "import matplotlib.pyplot    as plt\n",
        "import seaborn              as sns\n",
        "\n",
        "\n",
        "import folium               #needed for interactive map\n",
        "from folium.plugins import HeatMap\n",
        "\n",
        "import sklearn\n",
        "\n",
        "from sklearn.model_selection import train_test_split\n",
        "\n",
        "#Para clasificadores\n",
        "from sklearn.svm import SVC\n",
        "from sklearn.neighbors import KNeighborsClassifier\n",
        "from sklearn.linear_model import LogisticRegression\n",
        "\n",
        "#Para predictores\n",
        "from sklearn.linear_model import LinearRegression\n",
        "from sklearn.linear_model import Lasso\n",
        "from sklearn.linear_model import ElasticNet\n",
        "from sklearn.neighbors import KNeighborsRegressor\n",
        "from sklearn.tree import DecisionTreeRegressor\n",
        "from sklearn.svm import SVR\n",
        "\n",
        "#Para evaluar modelos\n",
        "from sklearn.model_selection import KFold\n",
        "from sklearn.model_selection import cross_val_score\n",
        "\n",
        "#limites columnas\n",
        "pd.options.display.max_columns = None\n",
        "\n",
        "#limites filas\n",
        "#pd.options.display.max_rows = None"
      ]
    },
    {
      "cell_type": "code",
      "execution_count": null,
      "metadata": {
        "id": "LbxtBMj953Jx"
      },
      "outputs": [],
      "source": [
        "#importacion dataframe\n",
        "\n",
        "df=pd.read_csv(\"/content/drive/MyDrive/data/resultadosMuestra.csv\") \n",
        "#df=pd.read_csv(\"/content/drive/MyDrive/data/.csv\") \n",
        "\n",
        "df"
      ]
    },
    {
      "cell_type": "code",
      "execution_count": null,
      "metadata": {
        "id": "RuipObiRGLve"
      },
      "outputs": [],
      "source": [
        "from google.colab import drive\n",
        "drive.mount('/content/drive')"
      ]
    },
    {
      "cell_type": "markdown",
      "metadata": {
        "id": "HIP1wqrWEBsz"
      },
      "source": [
        "# Fase 2: Implementación de Modelos\n"
      ]
    },
    {
      "cell_type": "code",
      "execution_count": null,
      "metadata": {
        "colab": {
          "base_uri": "https://localhost:8080/"
        },
        "id": "pW-gEhkdwbac",
        "outputId": "5683d8bc-bbf5-45a0-f823-d8ca07b7307e"
      },
      "outputs": [
        {
          "name": "stdout",
          "output_type": "stream",
          "text": [
            "Train:  16690\n",
            "Val:  3577\n",
            "Test:  3576\n"
          ]
        }
      ],
      "source": [
        "#asignacion de las variables para modelado\n",
        "y=df['DiagAtaqCorazon']\n",
        "x=df.drop('DiagAtaqCorazon',axis=1)\n",
        "\n",
        "x_train,x_test,y_train,y_test=train_test_split(x,y,test_size=0.30)\n",
        "x_test,x_val,y_test,y_val=train_test_split(x_test,y_test,test_size=0.5)\n",
        "\n",
        "print('Train: ', y_train.shape[0])\n",
        "print('Val: ', y_val.shape[0])\n",
        "print('Test: ', y_test.shape[0])\n",
        "\n",
        "x_train.to_csv(\"/content/drive/MyDrive/data/train.csv\", \n",
        "                index=False)\n",
        "\n",
        "x_val.to_csv(\"/content/drive/MyDrive/data/val.csv\", \n",
        "                index=False)\n",
        "\n",
        "x_test.to_csv(\"/content/drive/MyDrive/data/test.csv\", \n",
        "                index=False)"
      ]
    },
    {
      "cell_type": "code",
      "execution_count": null,
      "metadata": {
        "colab": {
          "base_uri": "https://localhost:8080/"
        },
        "id": "3GPrD3PcxDia",
        "outputId": "077f5e32-6e0d-4762-c646-2e03b5e7d64d"
      },
      "outputs": [
        {
          "name": "stdout",
          "output_type": "stream",
          "text": [
            "Regresión Logistica\n",
            "  Exactitud (accuracy):  0.935979871400615\n"
          ]
        },
        {
          "name": "stderr",
          "output_type": "stream",
          "text": [
            "/usr/local/lib/python3.7/dist-packages/sklearn/linear_model/_logistic.py:818: ConvergenceWarning: lbfgs failed to converge (status=1):\n",
            "STOP: TOTAL NO. of ITERATIONS REACHED LIMIT.\n",
            "\n",
            "Increase the number of iterations (max_iter) or scale the data as shown in:\n",
            "    https://scikit-learn.org/stable/modules/preprocessing.html\n",
            "Please also refer to the documentation for alternative solver options:\n",
            "    https://scikit-learn.org/stable/modules/linear_model.html#logistic-regression\n",
            "  extra_warning_msg=_LOGISTIC_SOLVER_CONVERGENCE_MSG,\n"
          ]
        }
      ],
      "source": [
        "#Regresión logistica\n",
        "print('Regresión Logistica')\n",
        "logReg = LogisticRegression()\n",
        "logReg.fit(x_train, y_train)\n",
        "y_predict = logReg.predict(x_val)\n",
        "print('  Exactitud (accuracy): ',logReg.score(x_val,y_val))"
      ]
    },
    {
      "cell_type": "code",
      "execution_count": null,
      "metadata": {
        "colab": {
          "base_uri": "https://localhost:8080/"
        },
        "id": "9lN-eVb-EIZK",
        "outputId": "a028fd1b-8474-4f2f-a45c-fac2194feade"
      },
      "outputs": [
        {
          "name": "stdout",
          "output_type": "stream",
          "text": [
            "Clasificador de SVC\n",
            "  Exactitud (accuracy):  0.9343024881185351\n"
          ]
        }
      ],
      "source": [
        "#Regresión SVM\n",
        "print('Clasificador de SVC')\n",
        "svc = SVC()\n",
        "svc.fit(x_train, y_train)\n",
        "y_predict = svc.predict(x_val)\n",
        "print('  Exactitud (accuracy): ',svc.score(x_val,y_val))"
      ]
    },
    {
      "cell_type": "code",
      "execution_count": null,
      "metadata": {
        "colab": {
          "base_uri": "https://localhost:8080/"
        },
        "id": "gGkg6niaxEBn",
        "outputId": "c3bfe84c-02bf-4e30-a855-f6dc4e4b8ceb"
      },
      "outputs": [
        {
          "name": "stdout",
          "output_type": "stream",
          "text": [
            "Clasificador de KNN\n",
            "  Exactitud (accuracy):  0.9337433603578418\n"
          ]
        }
      ],
      "source": [
        "#Clasificador KNeigbors\n",
        "print('Clasificador de KNN')\n",
        "knn = KNeighborsClassifier()\n",
        "knn.fit(x_train, y_train)\n",
        "y_predict = knn.predict(x_val)\n",
        "print('  Exactitud (accuracy): ',knn.score(x_val,y_val))"
      ]
    },
    {
      "cell_type": "code",
      "execution_count": null,
      "metadata": {
        "colab": {
          "base_uri": "https://localhost:8080/"
        },
        "id": "9S_FjORvzFhZ",
        "outputId": "ca10c225-11df-4b55-f6f5-afb30265f0c9"
      },
      "outputs": [
        {
          "name": "stdout",
          "output_type": "stream",
          "text": [
            "Resultados\n"
          ]
        },
        {
          "name": "stderr",
          "output_type": "stream",
          "text": [
            "/usr/local/lib/python3.7/dist-packages/sklearn/linear_model/_logistic.py:818: ConvergenceWarning: lbfgs failed to converge (status=1):\n",
            "STOP: TOTAL NO. of ITERATIONS REACHED LIMIT.\n",
            "\n",
            "Increase the number of iterations (max_iter) or scale the data as shown in:\n",
            "    https://scikit-learn.org/stable/modules/preprocessing.html\n",
            "Please also refer to the documentation for alternative solver options:\n",
            "    https://scikit-learn.org/stable/modules/linear_model.html#logistic-regression\n",
            "  extra_warning_msg=_LOGISTIC_SOLVER_CONVERGENCE_MSG,\n",
            "/usr/local/lib/python3.7/dist-packages/sklearn/linear_model/_logistic.py:818: ConvergenceWarning: lbfgs failed to converge (status=1):\n",
            "STOP: TOTAL NO. of ITERATIONS REACHED LIMIT.\n",
            "\n",
            "Increase the number of iterations (max_iter) or scale the data as shown in:\n",
            "    https://scikit-learn.org/stable/modules/preprocessing.html\n",
            "Please also refer to the documentation for alternative solver options:\n",
            "    https://scikit-learn.org/stable/modules/linear_model.html#logistic-regression\n",
            "  extra_warning_msg=_LOGISTIC_SOLVER_CONVERGENCE_MSG,\n",
            "/usr/local/lib/python3.7/dist-packages/sklearn/linear_model/_logistic.py:818: ConvergenceWarning: lbfgs failed to converge (status=1):\n",
            "STOP: TOTAL NO. of ITERATIONS REACHED LIMIT.\n",
            "\n",
            "Increase the number of iterations (max_iter) or scale the data as shown in:\n",
            "    https://scikit-learn.org/stable/modules/preprocessing.html\n",
            "Please also refer to the documentation for alternative solver options:\n",
            "    https://scikit-learn.org/stable/modules/linear_model.html#logistic-regression\n",
            "  extra_warning_msg=_LOGISTIC_SOLVER_CONVERGENCE_MSG,\n",
            "/usr/local/lib/python3.7/dist-packages/sklearn/linear_model/_logistic.py:818: ConvergenceWarning: lbfgs failed to converge (status=1):\n",
            "STOP: TOTAL NO. of ITERATIONS REACHED LIMIT.\n",
            "\n",
            "Increase the number of iterations (max_iter) or scale the data as shown in:\n",
            "    https://scikit-learn.org/stable/modules/preprocessing.html\n",
            "Please also refer to the documentation for alternative solver options:\n",
            "    https://scikit-learn.org/stable/modules/linear_model.html#logistic-regression\n",
            "  extra_warning_msg=_LOGISTIC_SOLVER_CONVERGENCE_MSG,\n",
            "/usr/local/lib/python3.7/dist-packages/sklearn/linear_model/_logistic.py:818: ConvergenceWarning: lbfgs failed to converge (status=1):\n",
            "STOP: TOTAL NO. of ITERATIONS REACHED LIMIT.\n",
            "\n",
            "Increase the number of iterations (max_iter) or scale the data as shown in:\n",
            "    https://scikit-learn.org/stable/modules/preprocessing.html\n",
            "Please also refer to the documentation for alternative solver options:\n",
            "    https://scikit-learn.org/stable/modules/linear_model.html#logistic-regression\n",
            "  extra_warning_msg=_LOGISTIC_SOLVER_CONVERGENCE_MSG,\n",
            "/usr/local/lib/python3.7/dist-packages/sklearn/linear_model/_logistic.py:818: ConvergenceWarning: lbfgs failed to converge (status=1):\n",
            "STOP: TOTAL NO. of ITERATIONS REACHED LIMIT.\n",
            "\n",
            "Increase the number of iterations (max_iter) or scale the data as shown in:\n",
            "    https://scikit-learn.org/stable/modules/preprocessing.html\n",
            "Please also refer to the documentation for alternative solver options:\n",
            "    https://scikit-learn.org/stable/modules/linear_model.html#logistic-regression\n",
            "  extra_warning_msg=_LOGISTIC_SOLVER_CONVERGENCE_MSG,\n",
            "/usr/local/lib/python3.7/dist-packages/sklearn/linear_model/_logistic.py:818: ConvergenceWarning: lbfgs failed to converge (status=1):\n",
            "STOP: TOTAL NO. of ITERATIONS REACHED LIMIT.\n",
            "\n",
            "Increase the number of iterations (max_iter) or scale the data as shown in:\n",
            "    https://scikit-learn.org/stable/modules/preprocessing.html\n",
            "Please also refer to the documentation for alternative solver options:\n",
            "    https://scikit-learn.org/stable/modules/linear_model.html#logistic-regression\n",
            "  extra_warning_msg=_LOGISTIC_SOLVER_CONVERGENCE_MSG,\n",
            "/usr/local/lib/python3.7/dist-packages/sklearn/linear_model/_logistic.py:818: ConvergenceWarning: lbfgs failed to converge (status=1):\n",
            "STOP: TOTAL NO. of ITERATIONS REACHED LIMIT.\n",
            "\n",
            "Increase the number of iterations (max_iter) or scale the data as shown in:\n",
            "    https://scikit-learn.org/stable/modules/preprocessing.html\n",
            "Please also refer to the documentation for alternative solver options:\n",
            "    https://scikit-learn.org/stable/modules/linear_model.html#logistic-regression\n",
            "  extra_warning_msg=_LOGISTIC_SOLVER_CONVERGENCE_MSG,\n",
            "/usr/local/lib/python3.7/dist-packages/sklearn/linear_model/_logistic.py:818: ConvergenceWarning: lbfgs failed to converge (status=1):\n",
            "STOP: TOTAL NO. of ITERATIONS REACHED LIMIT.\n",
            "\n",
            "Increase the number of iterations (max_iter) or scale the data as shown in:\n",
            "    https://scikit-learn.org/stable/modules/preprocessing.html\n",
            "Please also refer to the documentation for alternative solver options:\n",
            "    https://scikit-learn.org/stable/modules/linear_model.html#logistic-regression\n",
            "  extra_warning_msg=_LOGISTIC_SOLVER_CONVERGENCE_MSG,\n",
            "/usr/local/lib/python3.7/dist-packages/sklearn/linear_model/_logistic.py:818: ConvergenceWarning: lbfgs failed to converge (status=1):\n",
            "STOP: TOTAL NO. of ITERATIONS REACHED LIMIT.\n",
            "\n",
            "Increase the number of iterations (max_iter) or scale the data as shown in:\n",
            "    https://scikit-learn.org/stable/modules/preprocessing.html\n",
            "Please also refer to the documentation for alternative solver options:\n",
            "    https://scikit-learn.org/stable/modules/linear_model.html#logistic-regression\n",
            "  extra_warning_msg=_LOGISTIC_SOLVER_CONVERGENCE_MSG,\n"
          ]
        },
        {
          "name": "stdout",
          "output_type": "stream",
          "text": [
            "Log Reg: 0.946794 (0.006767)\n",
            "SVC Reg: 0.942960 (0.005384)\n",
            "KNN Reg: 0.943379 (0.007176)\n"
          ]
        }
      ],
      "source": [
        "#Comparación modelos\n",
        "num_folds = 10 #num particiones\n",
        "scoring = \"accuracy\"\n",
        "\n",
        "\n",
        "models = []\n",
        "models.append(('Log Reg',LogisticRegression()))\n",
        "models.append(('SVC Reg',SVC()))\n",
        "models.append(('KNN Reg',KNeighborsClassifier()))\n",
        "\n",
        "results = []\n",
        "names = []\n",
        "\n",
        "print('Resultados')\n",
        "kfold = KFold(n_splits=num_folds)\n",
        "for name, model in models:\n",
        "  cv_results=cross_val_score(model, x_train, y_train, cv=kfold, scoring=scoring)\n",
        "  results.append(cv_results)\n",
        "  names.append(name)\n",
        "  msg=\"%s: %f (%f)\" % (name, cv_results.mean(), cv_results.std())\n",
        "  print(msg)"
      ]
    },
    {
      "cell_type": "code",
      "execution_count": null,
      "metadata": {
        "colab": {
          "base_uri": "https://localhost:8080/",
          "height": 294
        },
        "id": "nXDfEMqELl7B",
        "outputId": "a9a96fcd-7527-4971-f858-a401b7531a5c"
      },
      "outputs": [
        {
          "data": {
            "image/png": "[encoded data removed]",
            "text/plain": [
              "<Figure size 432x288 with 1 Axes>"
            ]
          },
          "metadata": {},
          "output_type": "display_data"
        }
      ],
      "source": [
        "#Grafica\n",
        "fig=plt.figure()\n",
        "fig.suptitle('Algorithm compare')\n",
        "ax=fig.add_subplot(111)\n",
        "plt.boxplot(results)\n",
        "ax.set_xticklabels(names)\n",
        "plt.show()"
      ]
    },
    {
      "cell_type": "markdown",
      "metadata": {
        "id": "Lk9AGlLN0JuG"
      },
      "source": [
        "# Fase 2: Entrenamiento de Modelos"
      ]
    },
    {
      "cell_type": "code",
      "execution_count": null,
      "metadata": {
        "colab": {
          "base_uri": "https://localhost:8080/"
        },
        "id": "tj8CYLByydRv",
        "outputId": "e1f4ffa9-115d-403e-dbe6-d6924f2cabe2"
      },
      "outputs": [
        {
          "name": "stdout",
          "output_type": "stream",
          "text": [
            "\n",
            "----------------------------------------------\n",
            "Resultados sobre los datos: Regresión Logistica\n",
            "----------------------------------------------\n",
            "Accuracy 0.9469143199520671\n",
            "Acc:  0.9469143199520671\n",
            "\n",
            "----------------------------------------------\n",
            "Resultados sobre los datos de validación: Regresión Logistica\n",
            "----------------------------------------------\n",
            "Accuracy 0.9357003075202683\n",
            "Acc:  0.9357003075202683\n"
          ]
        }
      ],
      "source": [
        "#Modelo de Regresión logistica\n",
        "modelLogReg = LogisticRegression(penalty='none', random_state=0, max_iter=10000) \n",
        "\n",
        "modelLogReg.fit(x_train, y_train)\n",
        "\n",
        "print('\\n----------------------------------------------')\n",
        "print('Resultados sobre los datos: Regresión Logistica')\n",
        "print('----------------------------------------------')\n",
        "print('Accuracy', modelLogReg.score(x_train,y_train))\n",
        "\n",
        "\n",
        "y_predicho = modelLogReg.predict(x_train)\n",
        "y_train = y_train.reset_index(drop=True)\n",
        "fallos = 0\n",
        "exactos = 0\n",
        "for i in range(len(y_predicho)):\n",
        "  obtenido = y_predicho[i]\n",
        "  esperado = y_train[i]\n",
        "  if esperado != obtenido:\n",
        "    fallos += 1\n",
        "  else:\n",
        "    exactos +=1\n",
        "print('Acc: ',exactos / len(y_predicho))  \n",
        "\n",
        "print('\\n----------------------------------------------')\n",
        "print('Resultados sobre los datos de validación: Regresión Logistica')\n",
        "print('----------------------------------------------')\n",
        "print('Accuracy', modelLogReg.score(x_val,y_val))\n",
        "\n",
        "\n",
        "y_predicho = modelLogReg.predict(x_val)\n",
        "y_val = y_val.reset_index(drop=True)\n",
        "fallos = 0\n",
        "exactos = 0\n",
        "for i in range(len(y_predicho)):\n",
        "  obtenido = y_predicho[i]\n",
        "  esperado = y_val[i]\n",
        "  if esperado != obtenido:\n",
        "    fallos += 1\n",
        "  else:\n",
        "    exactos +=1\n",
        "print('Acc: ',exactos / len(y_predicho))"
      ]
    },
    {
      "cell_type": "code",
      "execution_count": null,
      "metadata": {
        "colab": {
          "base_uri": "https://localhost:8080/"
        },
        "id": "D2SznSFh2tnv",
        "outputId": "79d8ac45-0c0b-4b30-bf4f-a5b97f2bc82c"
      },
      "outputs": [
        {
          "name": "stdout",
          "output_type": "stream",
          "text": [
            "\n",
            "----------------------------------------------\n",
            "Resultados sobre los datos: Regresión SCV\n",
            "----------------------------------------------\n",
            "Accuracy 0.9429598562013182\n",
            "Acc:  0.9429598562013182\n",
            "\n",
            "----------------------------------------------\n",
            "Resultados sobre los datos de validación: Regresión SCV\n",
            "----------------------------------------------\n",
            "Accuracy 0.9343024881185351\n",
            "Acc:  0.9343024881185351\n"
          ]
        }
      ],
      "source": [
        "#modelo SVC\n",
        "modelSVCReg = SVC()\n",
        "\n",
        "modelSVCReg.fit(x_train, y_train)\n",
        "\n",
        "print('\\n----------------------------------------------')\n",
        "print('Resultados sobre los datos: Regresión SCV')\n",
        "print('----------------------------------------------')\n",
        "print('Accuracy', modelSVCReg.score(x_train,y_train))\n",
        "\n",
        "\n",
        "y_predicho = modelSVCReg.predict(x_train)\n",
        "y_train = y_train.reset_index(drop=True)\n",
        "fallos = 0\n",
        "exactos = 0\n",
        "for i in range(len(y_predicho)):\n",
        "  obtenido = y_predicho[i]\n",
        "  esperado = y_train[i]\n",
        "  if esperado != obtenido:\n",
        "    fallos += 1\n",
        "  else:\n",
        "    exactos +=1\n",
        "print('Acc: ',exactos / len(y_predicho))  \n",
        "\n",
        "print('\\n----------------------------------------------')\n",
        "print('Resultados sobre los datos de validación: Regresión SCV')\n",
        "print('----------------------------------------------')\n",
        "print('Accuracy', modelSVCReg.score(x_val,y_val))\n",
        "\n",
        "\n",
        "y_predicho = modelSVCReg.predict(x_val)\n",
        "y_val = y_val.reset_index(drop=True)\n",
        "fallos = 0\n",
        "exactos = 0\n",
        "for i in range(len(y_predicho)):\n",
        "  obtenido = y_predicho[i]\n",
        "  esperado = y_val[i]\n",
        "  if esperado != obtenido:\n",
        "    fallos += 1\n",
        "  else:\n",
        "    exactos +=1\n",
        "print('Acc: ',exactos / len(y_predicho))"
      ]
    },
    {
      "cell_type": "code",
      "execution_count": null,
      "metadata": {
        "colab": {
          "base_uri": "https://localhost:8080/"
        },
        "id": "Fiki9XT32t8b",
        "outputId": "9566d3fa-137d-4484-c8e0-1275ef914277"
      },
      "outputs": [
        {
          "name": "stdout",
          "output_type": "stream",
          "text": [
            "\n",
            "----------------------------------------------\n",
            "Resultados sobre los datos: Regresión KNN\n",
            "----------------------------------------------\n",
            "Accuracy 0.9566806470940683\n",
            "Acc:  0.9566806470940683\n",
            "\n",
            "----------------------------------------------\n",
            "Resultados sobre los datos de validación: Regresión KNN\n",
            "----------------------------------------------\n",
            "Accuracy 0.9320659770757618\n",
            "Acc:  0.9320659770757618\n"
          ]
        }
      ],
      "source": [
        "#modelo KNN\n",
        "modelKNNReg = KNeighborsClassifier(n_neighbors = 2) \n",
        "\n",
        "modelKNNReg.fit(x_train, y_train)\n",
        "\n",
        "print('\\n----------------------------------------------')\n",
        "print('Resultados sobre los datos: Regresión KNN')\n",
        "print('----------------------------------------------')\n",
        "print('Accuracy', modelKNNReg.score(x_train,y_train))\n",
        "\n",
        "\n",
        "y_predicho = modelKNNReg.predict(x_train)\n",
        "y_train = y_train.reset_index(drop=True)\n",
        "fallos = 0\n",
        "exactos = 0\n",
        "for i in range(len(y_predicho)):\n",
        "  obtenido = y_predicho[i]\n",
        "  esperado = y_train[i]\n",
        "  if esperado != obtenido:\n",
        "    fallos += 1\n",
        "  else:\n",
        "    exactos +=1\n",
        "print('Acc: ',exactos / len(y_predicho))  \n",
        "\n",
        "print('\\n----------------------------------------------')\n",
        "print('Resultados sobre los datos de validación: Regresión KNN')\n",
        "print('----------------------------------------------')\n",
        "print('Accuracy', modelKNNReg.score(x_val,y_val))\n",
        "\n",
        "\n",
        "y_predicho = modelKNNReg.predict(x_val)\n",
        "y_val = y_val.reset_index(drop=True)\n",
        "fallos = 0\n",
        "exactos = 0\n",
        "for i in range(len(y_predicho)):\n",
        "  obtenido = y_predicho[i]\n",
        "  esperado = y_val[i]\n",
        "  if esperado != obtenido:\n",
        "    fallos += 1\n",
        "  else:\n",
        "    exactos +=1\n",
        "print('Acc: ',exactos / len(y_predicho))"
      ]
    },
    {
      "cell_type": "markdown",
      "metadata": {
        "id": "Acdy1JhK27AI"
      },
      "source": [
        "# Fase 3: Resultados de los modelos"
      ]
    },
    {
      "cell_type": "code",
      "execution_count": null,
      "metadata": {
        "colab": {
          "base_uri": "https://localhost:8080/"
        },
        "id": "hKUysYiMFRx5",
        "outputId": "5347eba5-b2cd-440d-b14a-36de987d6c94"
      },
      "outputs": [
        {
          "name": "stdout",
          "output_type": "stream",
          "text": [
            "\n",
            "----------------------------------------------\n",
            "Resultados sobre los datos de prueba: Regresión Logistica\n",
            "----------------------------------------------\n",
            "Accuracy 0.9463087248322147\n",
            "Acc:  0.9463087248322147\n"
          ]
        }
      ],
      "source": [
        "print('\\n----------------------------------------------')\n",
        "print('Resultados sobre los datos de prueba: Regresión Logistica')\n",
        "print('----------------------------------------------')\n",
        "print('Accuracy', modelLogReg.score(x_test,y_test))\n",
        "\n",
        "\n",
        "y_predicho = modelLogReg.predict(x_test)\n",
        "y_test = y_test.reset_index(drop=True)\n",
        "fallos = 0\n",
        "exactos = 0\n",
        "for i in range(len(y_predicho)):\n",
        "  obtenido = y_predicho[i]\n",
        "  esperado = y_test[i]\n",
        "  if esperado != obtenido:\n",
        "    fallos += 1\n",
        "  else:\n",
        "    exactos +=1\n",
        "print('Acc: ',exactos / len(y_predicho))"
      ]
    },
    {
      "cell_type": "code",
      "execution_count": null,
      "metadata": {
        "colab": {
          "base_uri": "https://localhost:8080/"
        },
        "id": "cPRz89BI2vzg",
        "outputId": "061cefbb-e654-495c-fa37-c64dbab37f4c"
      },
      "outputs": [
        {
          "name": "stdout",
          "output_type": "stream",
          "text": [
            "\n",
            "----------------------------------------------\n",
            "Resultados sobre los datos de prueba: Regresión SVC\n",
            "----------------------------------------------\n",
            "Accuracy 0.9423937360178971\n",
            "Acc:  0.9423937360178971\n"
          ]
        }
      ],
      "source": [
        "print('\\n----------------------------------------------')\n",
        "print('Resultados sobre los datos de prueba: Regresión SVC')\n",
        "print('----------------------------------------------')\n",
        "print('Accuracy', modelSVCReg.score(x_test,y_test))\n",
        "\n",
        "\n",
        "y_predicho = modelSVCReg.predict(x_test)\n",
        "y_test = y_test.reset_index(drop=True)\n",
        "fallos = 0\n",
        "exactos = 0\n",
        "for i in range(len(y_predicho)):\n",
        "  obtenido = y_predicho[i]\n",
        "  esperado = y_test[i]\n",
        "  if esperado != obtenido:\n",
        "    fallos += 1\n",
        "  else:\n",
        "    exactos +=1\n",
        "print('Acc: ',exactos / len(y_predicho))"
      ]
    },
    {
      "cell_type": "code",
      "execution_count": null,
      "metadata": {
        "colab": {
          "base_uri": "https://localhost:8080/"
        },
        "id": "x1Bgk_aq2wHj",
        "outputId": "1eec582a-31bf-44ac-f5c5-533fa6cd806e"
      },
      "outputs": [
        {
          "name": "stdout",
          "output_type": "stream",
          "text": [
            "\n",
            "----------------------------------------------\n",
            "Resultados sobre los datos de prueba Regresión KNN\n",
            "----------------------------------------------\n",
            "Accuracy 0.9437919463087249\n",
            "Acc:  0.9437919463087249\n"
          ]
        }
      ],
      "source": [
        "print('\\n----------------------------------------------')\n",
        "print('Resultados sobre los datos de prueba Regresión KNN')\n",
        "print('----------------------------------------------')\n",
        "print('Accuracy', modelKNNReg.score(x_test,y_test))\n",
        "\n",
        "\n",
        "y_predicho = modelKNNReg.predict(x_test)\n",
        "y_test = y_test.reset_index(drop=True)\n",
        "fallos = 0\n",
        "exactos = 0\n",
        "for i in range(len(y_predicho)):\n",
        "  obtenido = y_predicho[i]\n",
        "  esperado = y_test[i]\n",
        "  if esperado != obtenido:\n",
        "    fallos += 1\n",
        "  else:\n",
        "    exactos +=1\n",
        "print('Acc: ',exactos / len(y_predicho))"
      ]
    }
  ],
  "metadata": {
    "colab": {
      "provenance": [],
      "include_colab_link": true
    },
    "interpreter": {
      "hash": "c347c8f9a7ef94e4c9e03b4513be7835ed18f45b99a2a817fb579f408b867b16"
    },
    "kernelspec": {
      "display_name": "Python 3.9.7 64-bit",
      "language": "python",
      "name": "python3"
    },
    "language_info": {
      "codemirror_mode": {
        "name": "ipython",
        "version": 3
      },
      "file_extension": ".py",
      "mimetype": "text/x-python",
      "name": "python",
      "nbconvert_exporter": "python",
      "pygments_lexer": "ipython3",
      "version": "3.9.7"
    }
  },
  "nbformat": 4,
  "nbformat_minor": 0
}