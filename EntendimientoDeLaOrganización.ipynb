{
  "nbformat": 4,
  "nbformat_minor": 0,
  "metadata": {
    "colab": {
      "provenance": [],
      "include_colab_link": true
    },
    "kernelspec": {
      "name": "python3",
      "display_name": "Python 3"
    },
    "language_info": {
      "name": "python"
    }
  },
  "cells": [
    {
      "cell_type": "markdown",
      "metadata": {
        "id": "view-in-github",
        "colab_type": "text"
      },
      "source": [
        "<a href=\"https://colab.research.google.com/github/andre2564/SistemaPredictivoAtaquesCardiacos/blob/main/EntendimientoDeLaOrganizaci%C3%B3n.ipynb\" target=\"_parent\"><img src=\"https://colab.research.google.com/assets/colab-badge.svg\" alt=\"Open In Colab\"/></a>"
      ]
    },
    {
      "cell_type": "markdown",
      "metadata": {
        "id": "v_duj-lFcdrk"
      },
      "source": [
        "**Parcial 1 - Entendimiento de la organización**\n",
        "\n",
        "En este trabajo se busca definir el contexto inicial para un proyecto de analítica de datos."
      ]
    },
    {
      "cell_type": "markdown",
      "metadata": {
        "id": "A_M4jLjJ2aI3"
      },
      "source": [
        "# Sistemas de prediccion de Ataques Cardiacos \n"
      ]
    },
    {
      "cell_type": "markdown",
      "metadata": {
        "id": "XvW_RdVdcqHj"
      },
      "source": [
        "**Datos de la presentación**\n",
        "\n",
        "* **Curso**: 901T\n",
        "\n",
        "* **Autores**:\n",
        "\n",
        "1. Andrea Roa Perez\n"
      ]
    },
    {
      "cell_type": "markdown",
      "metadata": {
        "id": "iT-yd3yEd1Lh"
      },
      "source": [
        "# Fase 1: Entendimiento del negocio"
      ]
    },
    {
      "cell_type": "markdown",
      "metadata": {
        "id": "XzvFDNRyeHBj"
      },
      "source": [
        "## La organización (1.3)"
      ]
    },
    {
      "cell_type": "markdown",
      "metadata": {
        "id": "RFDkKHo_eWke"
      },
      "source": [
        "### Glosario de términos (0.3)"
      ]
    },
    {
      "cell_type": "markdown",
      "metadata": {
        "id": "6s8142A_eewe"
      },
      "source": [
        "**Derrame Cerebral:** ocurre cuando el flujo de sangre a una parte del cerebro está interrumpido por la presencia de un vaso sanguíneo que está bloqueado o roto. Las células del cerebro que no reciben un suministro constante de sangre oxigenada pueden morir, causando daño permanente al cerebro"
      ]
    },
    {
      "cell_type": "markdown",
      "metadata": {
        "id": "JW_yXTgQelJS"
      },
      "source": [
        "**Ataque Cardiaco:** El ataque cardíaco se produce cuando se bloquea el flujo de sangre que va al corazón. Por lo general, el bloqueo es una acumulación de grasa, colesterol y otras sustancias que forman una placa en las arterias que alimentan el corazón (arterias coronarias)."
      ]
    },
    {
      "cell_type": "markdown",
      "source": [
        "**IBM / Indice de Masa Corporal:** El índice de masa corporal (IMC) es el peso de una persona en kilogramos dividido por el cuadrado de la estatura en metros. El IMC es un método de evaluación fácil y económico para la categoría de peso: bajo peso, peso saludable, sobrepeso, y obesidad."
      ],
      "metadata": {
        "id": "N5SqBIOUsILg"
      }
    },
    {
      "cell_type": "markdown",
      "source": [
        "**Dataset:** colección o representación de datos residentes en memoria con un modelo de programación relacional coherente e independientemente sea cual sea el origen de los datos que contiene"
      ],
      "metadata": {
        "id": "V5_bxRElshRh"
      }
    },
    {
      "cell_type": "markdown",
      "source": [
        "**Modelo:** Un modelo de minería de datos se crea mediante la aplicación de un algoritmo a los datos, pero es algo más que un algoritmo o un contenedor de metadatos: es un conjunto de datos, estadísticas y patrones que se pueden aplicar a los nuevos datos para generar predicciones y deducir relaciones."
      ],
      "metadata": {
        "id": "jTdOTY59sz2W"
      }
    },
    {
      "cell_type": "markdown",
      "source": [
        "**BRFSS:** El Sistema de Vigilancia de Factores de Riesgo del Comportamiento (BRFSS) es el principal sistema de encuestas telefónicas relacionadas con la salud del país que recopila datos estatales sobre los residentes de EE. UU. con respecto a sus comportamientos de riesgo relacionados con la salud, condiciones de salud crónicas y uso de servicios preventivos, lo que lo convierte en el sistema de encuestas de salud realizado continuamente más grande del mundo."
      ],
      "metadata": {
        "id": "RBkCrQRjtfvi"
      }
    },
    {
      "cell_type": "markdown",
      "source": [
        "**Riesgo**: En el campo de la medicina, los grupos de riesgo se usan para describir a las personas que tienen características importantes que se parecen.Los grupos de riesgo se pueden basar en la probabilidad de curación (probabilidad buena frente a probabilidad pobre) o la probabilidad de que su enfermedad vuelva (alta frente a baja). El tratamiento se puede basar en el grupo de riesgo al que el paciente pertenezca. Los grupos de riesgo también se pueden usar para describir a las personas que comparten rasgos o comportamientos que afectan su probabilidad de padecer de una enfermedad. \n"
      ],
      "metadata": {
        "id": "vJxVL9hOZSX8"
      }
    },
    {
      "cell_type": "markdown",
      "metadata": {
        "id": "-zOyU9NLetWy"
      },
      "source": [
        "### Objetivo  y contexto organizacional (0.4)\n",
        "\n",
        "Describa la razón de ser de la organización para la cual se desarrolla el proyecto."
      ]
    },
    {
      "cell_type": "markdown",
      "metadata": {
        "id": "Id7SUO-we6Xo"
      },
      "source": [
        "> Un hospital universitario, que priorizan los procesos de educación medica, impulsando la investigación para fomentar las habilidades y competencias de los alumnos, busca implementar nuevas herramientas que optimicen la labor medica como academica, facilitando los procesos de diagnostico y analisis del mismo en la institución."
      ]
    },
    {
      "cell_type": "markdown",
      "metadata": {
        "id": "ejnMHvUXfLGN"
      },
      "source": [
        "### Estado actual de la organización (0.6)"
      ]
    },
    {
      "cell_type": "markdown",
      "metadata": {
        "id": "zfVm1eKifeay"
      },
      "source": [
        "**Problema actual**:\n",
        "\n",
        "Describa la situación actual, en relación con el problema por resolver. Atendiendo, además, a la siguiente pregunta: ¿cuál es el conocimiento previo disponible acerca del problema?\n",
        "\n",
        "Indique también, cual es el área que se verá impactada con el desarrollo del proyecto y el impacto esperado."
      ]
    },
    {
      "cell_type": "markdown",
      "source": [
        ">  Se busca implementar nuevas herramientas que optimicen la labor medica como academica, facilitando los procesos de diagnostico y analisis del mismo. Como nuevo proyecto de investigación, se busca diseñar un modelo que permita predecir si un paciente es propenso a sufrir un ataque cardiaco. Para el proyecto, se requiere el apoyo de medicos, docentes y alumnos voluntarios. \n",
        "\n",
        "> El desarrollo del proyecto permitira identificar a los pacientes asociados al hospital que sean propensos a estos eventos, permitiendo asi que inicien tratamiento lo antes posible para evitar complicaciones.\n",
        "\n"
      ],
      "metadata": {
        "id": "zKGqMeIZ4pMw"
      }
    },
    {
      "cell_type": "markdown",
      "metadata": {
        "id": "ypB2S5a8fo0c"
      },
      "source": [
        "**Solución actual**:\n",
        "\n",
        "En caso de existir alguna solución o sistema que en la actualidad atienda esa problemática de forma total o parcial, describa las características de la solución indicando sus ventajas y desventajas."
      ]
    },
    {
      "cell_type": "markdown",
      "metadata": {
        "id": "O74tRpzBfxrm"
      },
      "source": [
        "> Actualmente, el hospital solo puede tratar estos casos cuando el paciente busca atención medica por las molestias que pueda llegar a experimentar; la implementación de una herramienta predictiva permitira buscar signos de alarma en el historial medico de cada paciente asociado al hospital, generando una señal de alarma, esto permitira que el personal medico convoque al paciente para iniciar tratamiento lo antes posible, y de esta manera reducir los eventos de ataques cardiados."
      ]
    },
    {
      "cell_type": "markdown",
      "metadata": {
        "id": "28_wKRe0f6Ap"
      },
      "source": [
        "## Valoración de la situación (0.8)"
      ]
    },
    {
      "cell_type": "markdown",
      "metadata": {
        "id": "UwOpiO76hWqa"
      },
      "source": [
        "### Recursos de Datos (0.8)\n",
        "\n",
        "Responda a las siguientes preguntas:"
      ]
    },
    {
      "cell_type": "markdown",
      "metadata": {
        "id": "UGek9S3Lhf4_"
      },
      "source": [
        "**¿Qué orígenes de datos están disponibles?, al menos 2** (0.5):\n",
        "\n",
        "Poner la url de la fuente y describa que información contiene cada uno.\n"
      ]
    },
    {
      "cell_type": "markdown",
      "source": [
        ">FUENTE #1:  https://www.kaggle.com/cdc/behavioral-risk-factor-surveillance-system?select=2015.csv Recopila datos uniformes y específicos de cada estado sobre prácticas preventivas de salud y riesgo. Los factores evaluados por el BRFSS incluyen el consumo de tabaco, la cobertura de atención médica, actividad física y consumo de frutas y verduras. Los datos se recopilan de una muestra aleatoria de adultos (uno por hogar) a través de una encuesta telefónica.\n",
        "El dataset se se trabajara sera del año 2015, con 303 atributos y mas de 441000 columnas\n",
        "\n",
        ">FUENTE #2: https://www.kaggle.com/drateendrajha/health-screening-data Recopila datos medicos de un grupo de pacientes, entre los mas descatados datos de colesterol, hipertensión, cardio, consumidor de tabaco o alcohol, Indice de masa corporal, entre otros. El dataset cuenta con 18 atributos y aproximadamente 70000 columnas"
      ],
      "metadata": {
        "id": "6Zvzj3E65CpB"
      }
    },
    {
      "cell_type": "markdown",
      "metadata": {
        "id": "0f9O9byVh2Qi"
      },
      "source": [
        "**¿Cómo se almacenan los datos?** (0.3):\n",
        "\n",
        "Formato y almacenamiento: en un archivo csv, en una db sql, etc. En caso de ser necesario indicar credenciales o filtros necesarios para su consulta."
      ]
    },
    {
      "cell_type": "markdown",
      "source": [
        "> FUENTE #1: Archivo csv\n",
        "\n",
        "> FUENTE #2: Archivo csv"
      ],
      "metadata": {
        "id": "xINAdfKh5Frq"
      }
    },
    {
      "cell_type": "markdown",
      "metadata": {
        "id": "LQZI6eCBiGLg"
      },
      "source": [
        "**¿Existen restricciones de seguridad que impidan o limiten el acceso a los datos necesarios?**:"
      ]
    },
    {
      "cell_type": "markdown",
      "source": [
        "> El acceso a los datos de los pacientes debe cumplir la normativa de protección de datos personales"
      ],
      "metadata": {
        "id": "nW1zb3x25TIF"
      }
    },
    {
      "cell_type": "markdown",
      "metadata": {
        "id": "ZfX5TZeDiC3o"
      },
      "source": [
        "**¿Ha planificado adquirir datos externos, como información demográfica?**:"
      ]
    },
    {
      "cell_type": "markdown",
      "source": [
        "> No"
      ],
      "metadata": {
        "id": "0_FxzhUz5P0m"
      }
    },
    {
      "cell_type": "markdown",
      "metadata": {
        "id": "3k_voZt9inev"
      },
      "source": [
        "## Determinación de los objetivos del proyecto (2.5)"
      ]
    },
    {
      "cell_type": "markdown",
      "metadata": {
        "id": "XEfFwMttjKA_"
      },
      "source": [
        "### Objetivo del proyecto (1.25)\n",
        "\n",
        "Plantear brevemente que necesidad se desea atender o que problema se busca resolver, por ejemplo:\n",
        "\n",
        "*\tDetectar el fraude en el uso de tarjetas de crédito de la organización credicerdi\n",
        "*\tClasificar alumnos según la probabilidad de terminar la carrera en diferentes cantidades de semestres\n",
        "*\tPredecir posibles siniestros en cultivos de maíz de la región occidente"
      ]
    },
    {
      "cell_type": "markdown",
      "metadata": {
        "id": "w_U4jlxujJz7"
      },
      "source": [
        "> Predecir que pacientes asociados a un hospital universitario sean propensos a sufrir un ataque cardiaco."
      ]
    },
    {
      "cell_type": "markdown",
      "metadata": {
        "id": "FQfaPjbrjJls"
      },
      "source": [
        "### Criterio de éxito (1.25)\n",
        "\n",
        "A partir del problema especificar como se podrá medir si el proyecto tiene el éxito esperado, por ejemplo:\n",
        "*\tIdentificar el 95% de los casos de fraude en el dataset de prueba.\n",
        "*\tIdentificación del 95% de los alumnos que terminaran la carrera en 9 semestres, dentro del dataset de prueba.\n",
        "*\tObtener una predicción del 99% de los eventos de siniestros en el dataset de prueba."
      ]
    },
    {
      "cell_type": "markdown",
      "metadata": {
        "id": "G85rg9nQjx7P"
      },
      "source": [
        "> Obtener una predicción del 90% de pacientes con riesgo alto de sufrir un ataque cardiaco en el dataset de prueba"
      ]
    },
    {
      "cell_type": "markdown",
      "metadata": {
        "id": "ojyd1WiUkDfg"
      },
      "source": [
        "## Producción de un plan de proyecto (0.4)\n",
        "\n",
        "---\n",
        "\n"
      ]
    },
    {
      "cell_type": "markdown",
      "metadata": {
        "id": "q4xbW7GSkJb6"
      },
      "source": [
        "\n",
        "\n",
        "```\n",
        "# Esto tiene formato de código\n",
        "```\n",
        "\n",
        "Diligencie la siguiente tabla:\n",
        "\n",
        "| Fase | Tiempo | Recursos|Riesgos|\n",
        "| --- | --- | --- | ----------- |\n",
        "| Comprensión del negocio | 1 semana | Analista | No contar con objetivos claros, No contar con expertos que apoyen el proceso |\n",
        "| Comprensión de los datos | 3 semanas | Analista | No contar con datos suficientes para el proyecto |\n",
        "| Preparación de los datos | 5 semanas | Analista, Desarrollador,Recursos de computo | Que los datos no se adapten a la necesidad del proyecto |\n",
        "| Modelado | 2 semanas | Analista, Desarrollador,Recursos de computo | Problemas de tecnologia, selección del modelo adecuado |\n",
        "| Evaluación | 1 semana | Analista | Problemas con la tecnologia o los datos, Mal desarrollo del modelado |\n",
        "| Despliegue | 1 semana | Analista, Desarrollador | Problemas para implementar el modelo |"
      ]
    },
    {
      "cell_type": "markdown",
      "source": [
        "* *En la parte del modelado también se requieren recursos de computo para ir en línea con el riesgo mencionado*"
      ],
      "metadata": {
        "id": "r1xNHJEeHMzN"
      }
    },
    {
      "cell_type": "markdown",
      "metadata": {
        "id": "QGhrj71VlGyc"
      },
      "source": [
        "# Auto valoración\n",
        "\n",
        "---"
      ]
    },
    {
      "cell_type": "markdown",
      "metadata": {
        "id": "BfwtABY4dol8"
      },
      "source": [
        "**¿Está todo listo para el siguiente paso?**\n",
        "\n",
        "Responda a las siguientes preguntas. Es una auto valoración de lo realizado. En caso de que alguna no pueda ser respondida debería devolverse al punto correspondiente e identificar las carencias.\n",
        "\n",
        "*\t¿Qué espera obtener de este proyecto?\n",
        "<br>\n",
        "Una herramienta que sirva de apoyo a estudiantes y profesionales de la salud para predecir que pacientes son propensos a sufrir un ataque cardiaco y/o un derrame cerebral\n",
        "<br>\n",
        "<br>\n",
        "*\t¿Dispone de los recursos necesarios para completar los objetivos?\n",
        "<br>\n",
        "Se dispone de datos suficientes, documentación relacionada a los dataset, pero no se cuenta con un experto en el ambito que acompañe el proceso\n",
        "<br>\n",
        "<br>\n",
        "*\t¿Dispone de acceso a todos los datos necesarios para el proyecto?\n",
        "<br>\n",
        "si, ya que los dataframes seleccionados contienen información anonima y son de acceso al publico, con el fin de poder realizar estadisticas\n",
        "\n",
        "\n",
        "\n"
      ]
    }
  ]
}